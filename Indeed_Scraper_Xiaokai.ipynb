{
 "cells": [
  {
   "cell_type": "code",
   "execution_count": 7,
   "id": "b7d61e4e-133b-4f1c-9cbd-a5b988dcd22f",
   "metadata": {},
   "outputs": [],
   "source": [
    "from urllib.request import Request, urlopen\n",
    "from bs4 import BeautifulSoup\n",
    "from urllib.request import urlopen\n",
    "from urllib.error import HTTPError\n",
    "from urllib.error import URLError\n",
    "import re\n",
    "import csv\n",
    "import pandas as pd"
   ]
  },
  {
   "cell_type": "markdown",
   "id": "fb17c1ca-9761-4f2a-8de3-329f8d4ae12b",
   "metadata": {},
   "source": [
    "# Mian scraping function for jop posting"
   ]
  },
  {
   "cell_type": "code",
   "execution_count": 8,
   "id": "89db3dfd-924f-4b6d-b156-38d52d74f2a4",
   "metadata": {},
   "outputs": [],
   "source": [
    "def jobScraper2(pageNumber):\n",
    "    baseURL='https://www.indeed.com/jobs?q=data%20analyst&l=New%20York%2C%20NY&start='\n",
    "    URL=baseURL+str(pageNumber)\n",
    "    req = Request(URL, headers = {'User_Agent':'Mozilla/5.0 (Windows NT 10.0; Win64; x64) AppleWebKit/537.36 (KHTML, like Gecko) Chrome/101.0.4951.54 Safari/537.36'})\n",
    "    try:\n",
    "        html= urlopen(req)\n",
    "    except HTTPError as e:\n",
    "            print(e)\n",
    "            print('HTTPError')        \n",
    "    except URLError as e:\n",
    "            print('URLError')\n",
    "    bs= BeautifulSoup(html.read(), 'html.parser')\n",
    "    Job_info = bs.find_all('div',{'class':'job_seen_beacon'})\n",
    "    job_list = []\n",
    "    for jobs in Job_info:\n",
    "        title = jobs.find('h2',{'class':'jobTitle'})\n",
    "        company= jobs.find('span',{'class':'companyName'})\n",
    "        location= jobs.find('div',{'class':'companyLocation'})\n",
    "        try:\n",
    "            salary = jobs.find('div',{'class':'metadata salary-snippet-container'}).text.strip()\n",
    "        except AttributeError:\n",
    "            salary = ''\n",
    "        try:\n",
    "            est_salary = jobs.find('span',{'class':'estimated-salary'}).text.strip()\n",
    "        except AttributeError:\n",
    "            est_salary = ''\n",
    "        describtion = jobs.find('div',{'class':'job-snippet'}).text.strip()\n",
    "        date = jobs.find('span',{'class':'date'})\n",
    "        job_table = [title.get_text(), company.get_text(), location.get_text(), \n",
    "                     salary, est_salary, describtion, date.get_text()]\n",
    "        job_list.append(job_table)\n",
    "    \n",
    "    return job_list"
   ]
  },
  {
   "cell_type": "code",
   "execution_count": 9,
   "id": "db63edb1-002c-4339-8250-eb7ad9159703",
   "metadata": {
    "tags": []
   },
   "outputs": [],
   "source": [
    "with open('Indeed_job_posting5.csv', 'w',newline='') as a:\n",
    "    writer = csv.writer(a)\n",
    "    writer.writerow([\"Job Title\", \"Company Name\", \"Location\", \"Salary\", \"Estimated Salary\", \"Job Describtion\", \"Postingd date\"])\n",
    "\n",
    "with open('Indeed_job_posting5.csv', 'a',newline='',encoding='utf-8') as a:\n",
    "    writer = csv.writer(a)\n",
    "    for i in range(0,2001,10):\n",
    "        job_list=jobScraper2(i)\n",
    "        writer.writerows(job_list)"
   ]
  },
  {
   "cell_type": "markdown",
   "id": "b5ed975a-fea9-4819-8ab6-cfaac257ae53",
   "metadata": {},
   "source": [
    "# Getting the href link"
   ]
  },
  {
   "cell_type": "code",
   "execution_count": 291,
   "id": "6228f662-58d7-4e76-8e6e-7e1a7b21ebbf",
   "metadata": {},
   "outputs": [],
   "source": [
    "\n",
    "baseURL='https://www.indeed.com/jobs?q=data%20analyst&l=New%20York%2C%20NY&start='\n",
    "req = Request(URL, headers = {'User_Agent':'Mozilla/5.0'})\n",
    "html= urlopen(req)\n",
    "bs= BeautifulSoup(html.read(), 'html.parser')\n",
    "Job_info = bs.find_all('h2',{'class':'jobTitle'})\n",
    "for i in Job_info:\n",
    "    links = i.find('a')['href']\n",
    "    print(links)"
   ]
  },
  {
   "cell_type": "markdown",
   "id": "e4a13470-3900-4ad6-9ded-ba7316ed7e56",
   "metadata": {},
   "source": [
    "# get the full ULR"
   ]
  },
  {
   "cell_type": "code",
   "execution_count": 128,
   "id": "f176fc07-33d4-484e-8722-71ea00e7469a",
   "metadata": {},
   "outputs": [
    {
     "name": "stdout",
     "output_type": "stream",
     "text": [
      "https://www.indeed.com/pagead/clk?mo=r&ad=-6NYlbfkN0CI2UxbvPRKrFuUpmDRCXw_z23lZlyBlAFzhmMt1MrD2xMdHe8Wd6XZwUfQrYvVVdyMXdoot-kfAypNlUIOIhXAlYcraLWehm2WjCJGRUWH7089vFl3AYXkKs5UKaI8PwT5EIEMP3BYyFW0i7H1eJQCMaw-Dx2FB60NYfZaFeFGjC-ZmSoNjis0OnDQB2TEVBUyrydJhBHu_Jmmqoq2tnGKIBVRDHed-610AN5z1gdmNXaQ2se4KSeOA-vB1gOCYLHqVjbv7mMLKI5lx1EY-Ha6g2unLt-qGj18p4l1ZcQUA8NO0crbX4D8p4O9_W1O7_8tsONFZeMlaO-MfoJ5MYzKoTWBP2LrnZSUxE8GAZxaA9N293p4lTD9-XBA8mSCp_8zpSCk2sV6DG90QbUKaS1eroA-YRmvO8q7BI0HJs4csoOPxpYsEB-R04Wh35y0CZ3XpS08ulbSBLpBbGZ1AgVAadGFFo8lTAM=&p=0&fvj=1&vjs=3\n",
      "https://www.indeed.com/pagead/clk?mo=r&ad=-6NYlbfkN0DnC9_Z6PEqKj_2r9f75kLSZUyjfNj9JzKNvPZtNNqcKZnVRvPGzzrGXkpzC0-K8HhYDa3_ipUzkzcG44qQ7gF7d38Hf7GAByfAp64pin1aKKdlwB9476RcGfAtX2EwTvjqxUU6U4m021CAJwUGr4u3rY6HotUnHn2jxLDiHV6z1mMql-d82GdOf1ghEU5G2oUh3yOTAfiIJPPlBqYe-8S4gx2S1OfZOZeGrSGPHRBxVeFyt1glp0lof2jnhX2hczZkSVKx40pvAykzPs8atiZCpRl0joFeXwmkZGkWxcQReK_vuhU1OoHC5elVtAuifqSNn-olLB9XZsoKRFIkM7ErrUGC15DBOmTvPPMGEJ6bolBXBboZp-gW8pu-SYrWfziU6k7Y5CHfdzSFVUfSYLjd9IepEbEYRg7bVO4UP27RxEnAhbdaCenOMBp6ygvoOx1ABIec9Xz0BO6buUXJ3smXSjz84EGn26Q17IJ6VwL6Q2UGJxcoI1Pjkb8H8_zdDH8=&p=1&fvj=1&vjs=3\n",
      "https://www.indeed.com/pagead/clk?mo=r&ad=-6NYlbfkN0CpFJQzrgRR8WqXWK1qKKEqALWJw739KlKqr2H-MSI4eoBlI4EFrmor2FYZMP3muM1xVwiNHsnwsBU3_oIHsdmigFfZX-03AW9gtnjyzg-mBZ_viqnkS4qdDe4-MjSVYPO7pBIO5kzREWBp94xMkflORyA1O6CKjVQ5PLAXpOkVywDkzwHQ-6FbzvAQyg9pJYK8nrralG7ERKVoZSvRJbuWZOxWr1CG4z-lDYAAis-udt-kkuRG9vo8YKaVW4L46pX0dORVd1fI9rOEKl3KBGCQwRtQx6bvlCIAXDjfoXc5yF3G6N_a0QUgFkYxrhBm19-vCLC2zZUlxkDPcGjAjPi94PZP3O6FRdQeYiuJQZAL67IHkgQ-cbnP-a_6Yk-O7pcxS3-C7Eo9T1oRXCOu2pracqeT_Z3vfOmeyZNyJmb14Izi-0ptOI85QFmaL-zyTrsowFU1y02acDmFRcK8j2q2ZCDxLSQJO1RsqxlGJ9mAUzS1n_Dzou9RrqbxoLYnwFSQPIXTn7m3HoVECB9VCrFrNE7PMoxMtv1wB3VNHT05DAERjsJz2nuc5vbCOErMvHipkHdzxOlf1S9xIzmeYcOfh6FQcZ4Md06erbsYQgYF_oIadWIqQpH4rnUiVKX8ylMybObsJyMOXcIt9_2QkjYzr_9-h-iuUtHK5q4aICE66qGcA3OBVq_GOf0R_fT2iqalwGvoA15e5elJKblUJQlbmknVjMlG382VxNtAztXLH7Gk1tPw7TfRnz7y-aAKvGyV-A0Wh6hTeHrvFeVTJ-RIQGXqH4PWq2mFmUOPYC8cxg6umy3VujEqrTEkJmncj5-_v3ezL0aZcLx5injFdH0YdjQp-sTlNqaX4MmWhJyH-IajsfiPIDrC0tm6iKWyDHQFc5dxdZLk7ps67hUQ3WrhVR2ipyoipXSilLApL0oSkX5NZKJEWGAVIkE1FPlwa2ntZLmgTbi_episv1I1oZgKPsjIvCO0KGOLdXqp2S3US1R2DppulTq3fpRof6S5tJE=&p=2&fvj=0&vjs=3\n",
      "https://www.indeed.com/pagead/clk?mo=r&ad=-6NYlbfkN0BhNN3PPgKPbTMZB0Y0J5JTZS3FnMM-ugqbblX4_m-srDJielPNCs_lvQXXEB0CV7OLe63N4KvXy_HgVoauX6cuMHTR01VhdLSZ04hFmzuVkz3nxIH-wUgqOpcKo8eBCchyqF175cBANPQolPljNQkyV0JhpSYlYKa7N5SSR9Puv1ZiGvMbkgO4XC_ASIfRID0ZmbYU2sfDo0ranSjWVYO_b8anr7U04gbFZiDtZ4rXZQlrnrNXbri8B1c27C3oAinokFNz6kQ8KhW_CF1nbBjgdMJU6XcYS3D49MD-4Cs3KJZthrBjNN-Agw9SOe4lbhy0W_dhikxRdTEtVzKIHYLmPJC9lknHLMg0P0_pWy5rRaEKRntNG4fKGm11D6AhproOoZYB5G3Eyc5Lxi8ngjbG9OCnpFk0JPPHqwE14eEZjkZBlboQ-rWmptf3J2HGL2g07oKJfzDXdk5_kXMjGR9pR0U-IUj8vy8PwSDiQjzSaTSkcTf_QMGk&p=3&fvj=1&vjs=3\n",
      "https://www.indeed.com/pagead/clk?mo=r&ad=-6NYlbfkN0CpFJQzrgRR8WqXWK1qKKEqALWJw739KlKqr2H-MSI4eoBlI4EFrmor2FYZMP3muM1xVwiNHsnwsN1fp9JIABm5HzCkL5jtvI4BmQK11mGZKvjHUZSk7UCf_H-C8PHWGS2SVPJ2GueiBLR2AvsugaKPnyzTTuG9a6hyz8fP8iwA1zmGbuauXXclH-Mr7zLARPOTfUZxBZn_69u5TfkMrfR4UIO97uNWYnvTq4We4NBfvzqJ39ZhSAbSlFfu0hPrVtLCsOgaeuC_0jHbsTntZj4bPOz0mAjoc86a4E3RaQNuHhfUfZZtNayHuN-4BeZppZ8yPBOGwogMF565wq2nfpEXszY10EUz6qOixJ3z5msBWfFpB8SbG4lgUjtTJLEKORs0EX9Wv6Lcqi3q14_JVNhOBpiIqa-uDh5jDGeJ35XmvQnGCzo9jgXMgQdsK2N8_wTO9cgCBzMlzBY1DAVRJAwY15ZoXagP7O6EZHPfBV6xg0D-JhZY3IrEvdecll0UQz1ZcCii-DQ7Ka_sAHoPN9Azjp9CGkQIuSsLyB_ilCTWGAcQGU5O3SZ0sjmxoYMADFZYw5WgcAuocawblf4PxXtnaU8nF1pIn2cX22SCFf0_SltWMujrZVmMAZlckQynT1BnVonSa6F88Jw1D61mvSw38g7d_jJOyb05rjZNoLyOBC3Gbn5JmZQlR9pwgxcFug0wMSJRSs_iZdlmq-DxdZyOGAfzSAVFyYCfNCInCJuUNfCHKYE9cbHaPWliGCGZetX9_ultLPIyXy2nXjsYH8glzGy1x7DVWucPSy19fiWqOCElZj5Nahn9IFjynzE7BHR_i1zkLlcb-uk2QEl-nQV9Dr1BG1EyG5G8Rhhd0VlYHHoCbwxE_1OEorIZVKu7KLsgWChhHNggAsyzqQ3vi1fdk9woY1xbZtl7XRdssKazQ6wLIJuxQiHOm0R3VxShs8SWLTCOBItgt3KlvegUkUCVjplWaOp3X8Wgk_ty5EiM6QAs-w7nFYD0kqE0i8qOKWY=&p=4&fvj=0&vjs=3\n",
      "https://www.indeed.com/rc/clk?jk=9c7a32d474b4cb60&fccid=40e5de3065c12562&vjs=3\n",
      "https://www.indeed.com/company/Quantbot-Technologies/jobs/Entry-Level-Junior-Data-Developer-Analyst-e73438e2076e1921?fccid=b12feff5f0b7472f&vjs=3\n",
      "https://www.indeed.com/company/Civilian-Complaint-Review-Board/jobs/Data-Analyst-0892f3a8d6e1b294?fccid=2127661e4fc0cbcb&vjs=3\n",
      "https://www.indeed.com/rc/clk?jk=6fdecd448dbe0536&fccid=189d9431c3c1e8ca&vjs=3\n",
      "https://www.indeed.com/rc/clk?jk=e22daf8ddafafc3a&fccid=6f31e2074a3d8a7b&vjs=3\n",
      "https://www.indeed.com/rc/clk?jk=302e7c32378b90e8&fccid=0c39fb2c91742dcf&vjs=3\n",
      "https://www.indeed.com/rc/clk?jk=106627a90902b060&fccid=cf771de840891efc&vjs=3\n",
      "https://www.indeed.com/rc/clk?jk=c08c0a48ed65c161&fccid=f97367b3ac9546b1&vjs=3\n",
      "https://www.indeed.com/rc/clk?jk=eb4e651499bf2d54&fccid=40e5de3065c12562&vjs=3\n",
      "https://www.indeed.com/rc/clk?jk=01dab71b5236b85e&fccid=aaf3b433897ea465&vjs=3\n"
     ]
    }
   ],
   "source": [
    "URL='https://www.indeed.com/jobs?q=data%20analyst&l=New%20York%2C%20NY&start=0'\n",
    "req = Request(URL, headers = {'User_Agent':'Mozilla/5.0 (Windows NT 10.0; Win64; x64) AppleWebKit/537.36 (KHTML, like Gecko) Chrome/101.0.4951.54 Safari/537.36'})\n",
    "html= urlopen(req)\n",
    "bs= BeautifulSoup(html.read(), 'html.parser')\n",
    "Job_info = bs.find_all('h2',{'class':'jobTitle'})\n",
    "for i in Job_info:\n",
    "    links = i.find('a')['href']\n",
    "    full_url ='https://www.indeed.com' + str(links)\n",
    "    print(full_url)\n"
   ]
  },
  {
   "cell_type": "markdown",
   "id": "47c92fba-e0bc-434f-87ee-156f1d1c6279",
   "metadata": {},
   "source": [
    "# Link Generator function"
   ]
  },
  {
   "cell_type": "code",
   "execution_count": 280,
   "id": "b1ae8019-6d72-4729-bef2-35fc17368fda",
   "metadata": {},
   "outputs": [],
   "source": [
    "def linkGenerator(pageNumber):\n",
    "    baseURL='https://www.indeed.com/jobs?q=data%20analyst&l=New%20York%2C%20NY&start='\n",
    "    URL=baseURL+str(pageNumber)\n",
    "    req = Request(URL, headers = {'User_Agent':'Mozilla/5.0 (Windows NT 10.0; Win64; x64) AppleWebKit/537.36 (KHTML, like Gecko) Chrome/101.0.4951.54 Safari/537.36'})\n",
    "    html= urlopen(req)\n",
    "    bs= BeautifulSoup(html.read(), 'html.parser')\n",
    "    Job_info = bs.find_all('h2',{'class':'jobTitle'})\n",
    "    result =  []\n",
    "    for i in Job_info:\n",
    "        links = i.find('a')['href']\n",
    "        full_url ='https://www.indeed.com' + str(links)\n",
    "        result.append(full_url)\n",
    "    return(result)"
   ]
  },
  {
   "cell_type": "markdown",
   "id": "595379b2-8d02-490f-b202-e4b89800bab1",
   "metadata": {},
   "source": [
    "# Main scraping code for full job description "
   ]
  },
  {
   "cell_type": "code",
   "execution_count": 281,
   "id": "44aedd4e-ee9d-441e-8f39-908e70f843be",
   "metadata": {},
   "outputs": [],
   "source": [
    "with open('skill_list4.csv', 'w',newline='', encoding='utf-8') as a:\n",
    "    writer = csv.writer(a)\n",
    "    writer.writerow([\"company name\", \"job title\", \"Job_description\"])\n",
    "    for i in range(0, 1001, 10):\n",
    "        database = linkGenerator(i)\n",
    "        for pageLink in database: \n",
    "            URL=pageLink\n",
    "            req = Request(URL, headers = {'User_Agent':'Mozilla/5.0 (Windows NT 10.0; Win64; x64) AppleWebKit/537.36 (KHTML, like Gecko) Chrome/101.0.4951.54 Safari/537.36'})\n",
    "            html= urlopen(req)\n",
    "            bs= BeautifulSoup(html.read(), 'html.parser')\n",
    "            job_posting = bs.find_all('div',{'class':'jobsearch-ViewJobLayout mobRefresh jasxrefreshcombotst jobsearch-ViewJobLayout-changeTextSize jobsearch-ViewJobLayout-changeTextColor'})\n",
    "            for i in job_posting:\n",
    "                company_name = i.find('div',{'class':'jobsearch-CompanyInfoContainer'}).get_text()\n",
    "                job_title = i.find('div',{'class':'jobsearch-JobInfoHeader-title-container'}).get_text()\n",
    "                Job_description = re.findall(r'\\bSQL\\b|\\bExcel\\b|\\bTableau\\b|\\bR\\b|\\bPython\\b|\\bPower BI\\b', i.find('div',{'id':'jobDescriptionText'}).get_text())\n",
    "                Job_description = \", \".join(list(set(Job_description)))\n",
    "                writer.writerow([company_name, job_title, Job_description]) "
   ]
  }
 ],
 "metadata": {
  "kernelspec": {
   "display_name": "Python 3 (ipykernel)",
   "language": "python",
   "name": "python3"
  },
  "language_info": {
   "codemirror_mode": {
    "name": "ipython",
    "version": 3
   },
   "file_extension": ".py",
   "mimetype": "text/x-python",
   "name": "python",
   "nbconvert_exporter": "python",
   "pygments_lexer": "ipython3",
   "version": "3.9.7"
  }
 },
 "nbformat": 4,
 "nbformat_minor": 5
}
