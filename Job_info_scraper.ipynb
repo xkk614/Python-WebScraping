{
 "cells": [
  {
   "cell_type": "code",
   "execution_count": null,
   "id": "085f4b19-d08a-4397-8ce4-5cf668f7a3d4",
   "metadata": {},
   "outputs": [],
   "source": [
    "from urllib.request import Request, urlopen\n",
    "from bs4 import BeautifulSoup\n",
    "from urllib.request import urlopen\n",
    "from urllib.error import HTTPError\n",
    "from urllib.error import URLError\n",
    "import re\n",
    "import csv\n",
    "import pandas as pd"
   ]
  },
  {
   "cell_type": "markdown",
   "id": "6968cbde-3c7e-4648-aa96-002c574f0000",
   "metadata": {},
   "source": [
    "Scraping Job describtion URL"
   ]
  },
  {
   "cell_type": "code",
   "execution_count": 291,
   "id": "6228f662-58d7-4e76-8e6e-7e1a7b21ebbf",
   "metadata": {},
   "outputs": [],
   "source": [
    "\n",
    "baseURL='https://www.indeed.com/jobs?q=data%20analyst&l=New%20York%2C%20NY&start='\n",
    "req = Request(URL, headers = {'User_Agent':'Mozilla/5.0'})\n",
    "html= urlopen(req)\n",
    "bs= BeautifulSoup(html.read(), 'html.parser')\n",
    "Job_info = bs.find_all('h2',{'class':'jobTitle'})\n",
    "for i in Job_info:\n",
    "    links = i.find('a')['href']\n",
    "    print(links)"
   ]
  },
  {
   "cell_type": "markdown",
   "id": "c118a263-642a-4139-9d45-2186bd79d720",
   "metadata": {},
   "source": [
    "combining URL "
   ]
  },
  {
   "cell_type": "code",
   "execution_count": 128,
   "id": "fe8a912d-bb0b-4528-b305-b6d9cd24ef0b",
   "metadata": {},
   "outputs": [
    {
     "name": "stdout",
     "output_type": "stream",
     "text": [
      "https://www.indeed.com/pagead/clk?mo=r&ad=-6NYlbfkN0CI2UxbvPRKrFuUpmDRCXw_z23lZlyBlAFzhmMt1MrD2xMdHe8Wd6XZwUfQrYvVVdyMXdoot-kfAypNlUIOIhXAlYcraLWehm2WjCJGRUWH7089vFl3AYXkKs5UKaI8PwT5EIEMP3BYyFW0i7H1eJQCMaw-Dx2FB60NYfZaFeFGjC-ZmSoNjis0OnDQB2TEVBUyrydJhBHu_Jmmqoq2tnGKIBVRDHed-610AN5z1gdmNXaQ2se4KSeOA-vB1gOCYLHqVjbv7mMLKI5lx1EY-Ha6g2unLt-qGj18p4l1ZcQUA8NO0crbX4D8p4O9_W1O7_8tsONFZeMlaO-MfoJ5MYzKoTWBP2LrnZSUxE8GAZxaA9N293p4lTD9-XBA8mSCp_8zpSCk2sV6DG90QbUKaS1eroA-YRmvO8q7BI0HJs4csoOPxpYsEB-R04Wh35y0CZ3XpS08ulbSBLpBbGZ1AgVAadGFFo8lTAM=&p=0&fvj=1&vjs=3\n",
      "https://www.indeed.com/pagead/clk?mo=r&ad=-6NYlbfkN0DnC9_Z6PEqKj_2r9f75kLSZUyjfNj9JzKNvPZtNNqcKZnVRvPGzzrGXkpzC0-K8HhYDa3_ipUzkzcG44qQ7gF7d38Hf7GAByfAp64pin1aKKdlwB9476RcGfAtX2EwTvjqxUU6U4m021CAJwUGr4u3rY6HotUnHn2jxLDiHV6z1mMql-d82GdOf1ghEU5G2oUh3yOTAfiIJPPlBqYe-8S4gx2S1OfZOZeGrSGPHRBxVeFyt1glp0lof2jnhX2hczZkSVKx40pvAykzPs8atiZCpRl0joFeXwmkZGkWxcQReK_vuhU1OoHC5elVtAuifqSNn-olLB9XZsoKRFIkM7ErrUGC15DBOmTvPPMGEJ6bolBXBboZp-gW8pu-SYrWfziU6k7Y5CHfdzSFVUfSYLjd9IepEbEYRg7bVO4UP27RxEnAhbdaCenOMBp6ygvoOx1ABIec9Xz0BO6buUXJ3smXSjz84EGn26Q17IJ6VwL6Q2UGJxcoI1Pjkb8H8_zdDH8=&p=1&fvj=1&vjs=3\n",
      "https://www.indeed.com/pagead/clk?mo=r&ad=-6NYlbfkN0CpFJQzrgRR8WqXWK1qKKEqALWJw739KlKqr2H-MSI4eoBlI4EFrmor2FYZMP3muM1xVwiNHsnwsBU3_oIHsdmigFfZX-03AW9gtnjyzg-mBZ_viqnkS4qdDe4-MjSVYPO7pBIO5kzREWBp94xMkflORyA1O6CKjVQ5PLAXpOkVywDkzwHQ-6FbzvAQyg9pJYK8nrralG7ERKVoZSvRJbuWZOxWr1CG4z-lDYAAis-udt-kkuRG9vo8YKaVW4L46pX0dORVd1fI9rOEKl3KBGCQwRtQx6bvlCIAXDjfoXc5yF3G6N_a0QUgFkYxrhBm19-vCLC2zZUlxkDPcGjAjPi94PZP3O6FRdQeYiuJQZAL67IHkgQ-cbnP-a_6Yk-O7pcxS3-C7Eo9T1oRXCOu2pracqeT_Z3vfOmeyZNyJmb14Izi-0ptOI85QFmaL-zyTrsowFU1y02acDmFRcK8j2q2ZCDxLSQJO1RsqxlGJ9mAUzS1n_Dzou9RrqbxoLYnwFSQPIXTn7m3HoVECB9VCrFrNE7PMoxMtv1wB3VNHT05DAERjsJz2nuc5vbCOErMvHipkHdzxOlf1S9xIzmeYcOfh6FQcZ4Md06erbsYQgYF_oIadWIqQpH4rnUiVKX8ylMybObsJyMOXcIt9_2QkjYzr_9-h-iuUtHK5q4aICE66qGcA3OBVq_GOf0R_fT2iqalwGvoA15e5elJKblUJQlbmknVjMlG382VxNtAztXLH7Gk1tPw7TfRnz7y-aAKvGyV-A0Wh6hTeHrvFeVTJ-RIQGXqH4PWq2mFmUOPYC8cxg6umy3VujEqrTEkJmncj5-_v3ezL0aZcLx5injFdH0YdjQp-sTlNqaX4MmWhJyH-IajsfiPIDrC0tm6iKWyDHQFc5dxdZLk7ps67hUQ3WrhVR2ipyoipXSilLApL0oSkX5NZKJEWGAVIkE1FPlwa2ntZLmgTbi_episv1I1oZgKPsjIvCO0KGOLdXqp2S3US1R2DppulTq3fpRof6S5tJE=&p=2&fvj=0&vjs=3\n",
      "https://www.indeed.com/pagead/clk?mo=r&ad=-6NYlbfkN0BhNN3PPgKPbTMZB0Y0J5JTZS3FnMM-ugqbblX4_m-srDJielPNCs_lvQXXEB0CV7OLe63N4KvXy_HgVoauX6cuMHTR01VhdLSZ04hFmzuVkz3nxIH-wUgqOpcKo8eBCchyqF175cBANPQolPljNQkyV0JhpSYlYKa7N5SSR9Puv1ZiGvMbkgO4XC_ASIfRID0ZmbYU2sfDo0ranSjWVYO_b8anr7U04gbFZiDtZ4rXZQlrnrNXbri8B1c27C3oAinokFNz6kQ8KhW_CF1nbBjgdMJU6XcYS3D49MD-4Cs3KJZthrBjNN-Agw9SOe4lbhy0W_dhikxRdTEtVzKIHYLmPJC9lknHLMg0P0_pWy5rRaEKRntNG4fKGm11D6AhproOoZYB5G3Eyc5Lxi8ngjbG9OCnpFk0JPPHqwE14eEZjkZBlboQ-rWmptf3J2HGL2g07oKJfzDXdk5_kXMjGR9pR0U-IUj8vy8PwSDiQjzSaTSkcTf_QMGk&p=3&fvj=1&vjs=3\n",
      "https://www.indeed.com/pagead/clk?mo=r&ad=-6NYlbfkN0CpFJQzrgRR8WqXWK1qKKEqALWJw739KlKqr2H-MSI4eoBlI4EFrmor2FYZMP3muM1xVwiNHsnwsN1fp9JIABm5HzCkL5jtvI4BmQK11mGZKvjHUZSk7UCf_H-C8PHWGS2SVPJ2GueiBLR2AvsugaKPnyzTTuG9a6hyz8fP8iwA1zmGbuauXXclH-Mr7zLARPOTfUZxBZn_69u5TfkMrfR4UIO97uNWYnvTq4We4NBfvzqJ39ZhSAbSlFfu0hPrVtLCsOgaeuC_0jHbsTntZj4bPOz0mAjoc86a4E3RaQNuHhfUfZZtNayHuN-4BeZppZ8yPBOGwogMF565wq2nfpEXszY10EUz6qOixJ3z5msBWfFpB8SbG4lgUjtTJLEKORs0EX9Wv6Lcqi3q14_JVNhOBpiIqa-uDh5jDGeJ35XmvQnGCzo9jgXMgQdsK2N8_wTO9cgCBzMlzBY1DAVRJAwY15ZoXagP7O6EZHPfBV6xg0D-JhZY3IrEvdecll0UQz1ZcCii-DQ7Ka_sAHoPN9Azjp9CGkQIuSsLyB_ilCTWGAcQGU5O3SZ0sjmxoYMADFZYw5WgcAuocawblf4PxXtnaU8nF1pIn2cX22SCFf0_SltWMujrZVmMAZlckQynT1BnVonSa6F88Jw1D61mvSw38g7d_jJOyb05rjZNoLyOBC3Gbn5JmZQlR9pwgxcFug0wMSJRSs_iZdlmq-DxdZyOGAfzSAVFyYCfNCInCJuUNfCHKYE9cbHaPWliGCGZetX9_ultLPIyXy2nXjsYH8glzGy1x7DVWucPSy19fiWqOCElZj5Nahn9IFjynzE7BHR_i1zkLlcb-uk2QEl-nQV9Dr1BG1EyG5G8Rhhd0VlYHHoCbwxE_1OEorIZVKu7KLsgWChhHNggAsyzqQ3vi1fdk9woY1xbZtl7XRdssKazQ6wLIJuxQiHOm0R3VxShs8SWLTCOBItgt3KlvegUkUCVjplWaOp3X8Wgk_ty5EiM6QAs-w7nFYD0kqE0i8qOKWY=&p=4&fvj=0&vjs=3\n",
      "https://www.indeed.com/rc/clk?jk=9c7a32d474b4cb60&fccid=40e5de3065c12562&vjs=3\n",
      "https://www.indeed.com/company/Quantbot-Technologies/jobs/Entry-Level-Junior-Data-Developer-Analyst-e73438e2076e1921?fccid=b12feff5f0b7472f&vjs=3\n",
      "https://www.indeed.com/company/Civilian-Complaint-Review-Board/jobs/Data-Analyst-0892f3a8d6e1b294?fccid=2127661e4fc0cbcb&vjs=3\n",
      "https://www.indeed.com/rc/clk?jk=6fdecd448dbe0536&fccid=189d9431c3c1e8ca&vjs=3\n",
      "https://www.indeed.com/rc/clk?jk=e22daf8ddafafc3a&fccid=6f31e2074a3d8a7b&vjs=3\n",
      "https://www.indeed.com/rc/clk?jk=302e7c32378b90e8&fccid=0c39fb2c91742dcf&vjs=3\n",
      "https://www.indeed.com/rc/clk?jk=106627a90902b060&fccid=cf771de840891efc&vjs=3\n",
      "https://www.indeed.com/rc/clk?jk=c08c0a48ed65c161&fccid=f97367b3ac9546b1&vjs=3\n",
      "https://www.indeed.com/rc/clk?jk=eb4e651499bf2d54&fccid=40e5de3065c12562&vjs=3\n",
      "https://www.indeed.com/rc/clk?jk=01dab71b5236b85e&fccid=aaf3b433897ea465&vjs=3\n"
     ]
    }
   ],
   "source": [
    "URL='https://www.indeed.com/jobs?q=data%20analyst&l=New%20York%2C%20NY&start=0'\n",
    "req = Request(URL, headers = {'User_Agent':'Mozilla/5.0 (Windows NT 10.0; Win64; x64) AppleWebKit/537.36 (KHTML, like Gecko) Chrome/101.0.4951.54 Safari/537.36'})\n",
    "html= urlopen(req)\n",
    "bs= BeautifulSoup(html.read(), 'html.parser')\n",
    "Job_info = bs.find_all('h2',{'class':'jobTitle'})\n",
    "for i in Job_info:\n",
    "    links = i.find('a')['href']\n",
    "    full_url ='https://www.indeed.com' + str(links)\n",
    "    print(full_url)\n"
   ]
  },
  {
   "cell_type": "markdown",
   "id": "22e2b431-c32c-4d8f-aa35-a005e03bc77f",
   "metadata": {},
   "source": [
    "Link Generator function for job describtion page"
   ]
  },
  {
   "cell_type": "code",
   "execution_count": 280,
   "id": "1f03ece0-c2a1-4e8f-9b6d-0481ac72f16b",
   "metadata": {},
   "outputs": [],
   "source": [
    "def linkGenerator(pageNumber):\n",
    "    baseURL='https://www.indeed.com/jobs?q=data%20analyst&l=New%20York%2C%20NY&start='\n",
    "    URL=baseURL+str(pageNumber)\n",
    "    req = Request(URL, headers = {'User_Agent':'Mozilla/5.0 (Windows NT 10.0; Win64; x64) AppleWebKit/537.36 (KHTML, like Gecko) Chrome/101.0.4951.54 Safari/537.36'})\n",
    "    html= urlopen(req)\n",
    "    bs= BeautifulSoup(html.read(), 'html.parser')\n",
    "    Job_info = bs.find_all('h2',{'class':'jobTitle'})\n",
    "    result =  []\n",
    "    for i in Job_info:\n",
    "        links = i.find('a')['href']\n",
    "        full_url ='https://www.indeed.com' + str(links)\n",
    "        result.append(full_url)\n",
    "    return(result)"
   ]
  },
  {
   "cell_type": "code",
   "execution_count": 247,
   "id": "c44f417a-2d7a-4dc1-b9be-773308e739f8",
   "metadata": {},
   "outputs": [
    {
     "data": {
      "text/plain": [
       "['https://www.indeed.com/rc/clk?jk=7de4aa6c23d5bb14&fccid=146443e77d8c0778&vjs=3',\n",
       " 'https://www.indeed.com/rc/clk?jk=89bdac43d1a580dc&fccid=c4bc23324dcf8d3c&vjs=3',\n",
       " 'https://www.indeed.com/rc/clk?jk=ac52d8724c3129f6&fccid=477f35e52c119a3e&vjs=3',\n",
       " 'https://www.indeed.com/rc/clk?jk=51494a0a3e768b07&fccid=448951d0ddf03e0c&vjs=3',\n",
       " 'https://www.indeed.com/rc/clk?jk=5b047cb9c2453b0e&fccid=cce17bd4beada08d&vjs=3',\n",
       " 'https://www.indeed.com/rc/clk?jk=166856c9561332ad&fccid=d02505eaf30f1ca5&vjs=3',\n",
       " 'https://www.indeed.com/rc/clk?jk=0673ef0768f253ac&fccid=bd976cc171c690e0&vjs=3',\n",
       " 'https://www.indeed.com/rc/clk?jk=c08c0a48ed65c161&fccid=f97367b3ac9546b1&vjs=3',\n",
       " 'https://www.indeed.com/company/Talentheed-Inc/jobs/Junior-Data-Analyst-3c7a424eb89361a9?fccid=c74998f9af9be394&vjs=3',\n",
       " 'https://www.indeed.com/rc/clk?jk=106627a90902b060&fccid=cf771de840891efc&vjs=3',\n",
       " 'https://www.indeed.com/rc/clk?jk=d73f8cfbbc3cf3c8&fccid=c007936ceb766fe5&vjs=3',\n",
       " 'https://www.indeed.com/rc/clk?jk=a6e94808d48b9e8e&fccid=4f8daa48ef966ab5&vjs=3',\n",
       " 'https://www.indeed.com/company/PCS-GLOBAL-TECH/jobs/Entry-Level-Data-Analyst-b8bf6226087ebbd5?fccid=252beafbd99a6037&vjs=3',\n",
       " 'https://www.indeed.com/rc/clk?jk=89524fafa43ee7bd&fccid=bd976cc171c690e0&vjs=3',\n",
       " 'https://www.indeed.com/rc/clk?jk=f16fee4d087b8c95&fccid=2c23f29fcd5c78da&vjs=3']"
      ]
     },
     "execution_count": 247,
     "metadata": {},
     "output_type": "execute_result"
    }
   ],
   "source": [
    "linkGenerator(10)"
   ]
  },
  {
   "cell_type": "markdown",
   "id": "b89e8c37-a50d-4ec0-935f-2b2bf1de1c80",
   "metadata": {},
   "source": [
    "main scraping code for job describtion"
   ]
  },
  {
   "cell_type": "code",
   "execution_count": 281,
   "id": "e0fcccfb-e979-42c1-8a1c-f1f95358739c",
   "metadata": {},
   "outputs": [],
   "source": [
    "with open('skill_list4.csv', 'w',newline='', encoding='utf-8') as a:\n",
    "    writer = csv.writer(a)\n",
    "    writer.writerow([\"company name\", \"job title\", \"Job_description\"])\n",
    "    for i in range(0, 1001, 10):\n",
    "        database = linkGenerator(i)\n",
    "        for pageLink in database: \n",
    "            URL=pageLink\n",
    "            req = Request(URL, headers = {'User_Agent':'Mozilla/5.0 (Windows NT 10.0; Win64; x64) AppleWebKit/537.36 (KHTML, like Gecko) Chrome/101.0.4951.54 Safari/537.36'})\n",
    "            html= urlopen(req)\n",
    "            bs= BeautifulSoup(html.read(), 'html.parser')\n",
    "            job_posting = bs.find_all('div',{'class':'jobsearch-ViewJobLayout mobRefresh jasxrefreshcombotst jobsearch-ViewJobLayout-changeTextSize jobsearch-ViewJobLayout-changeTextColor'})\n",
    "            for i in job_posting:\n",
    "                company_name = i.find('div',{'class':'jobsearch-CompanyInfoContainer'}).get_text()\n",
    "                job_title = i.find('div',{'class':'jobsearch-JobInfoHeader-title-container'}).get_text()\n",
    "                Job_description = re.findall(r'\\bSQL\\b|\\bExcel\\b|\\bTableau\\b|\\bR\\b|\\bPython\\b|\\bPower BI\\b', i.find('div',{'id':'jobDescriptionText'}).get_text())\n",
    "                Job_description = \", \".join(list(set(Job_description)))\n",
    "                writer.writerow([company_name, job_title, Job_description]) "
   ]
  },
  {
   "cell_type": "code",
   "execution_count": null,
   "id": "a00172de-9cf1-43e7-a8d5-e02f24cc1303",
   "metadata": {},
   "outputs": [],
   "source": []
  }
 ],
 "metadata": {
  "kernelspec": {
   "display_name": "Python 3 (ipykernel)",
   "language": "python",
   "name": "python3"
  },
  "language_info": {
   "codemirror_mode": {
    "name": "ipython",
    "version": 3
   },
   "file_extension": ".py",
   "mimetype": "text/x-python",
   "name": "python",
   "nbconvert_exporter": "python",
   "pygments_lexer": "ipython3",
   "version": "3.9.7"
  }
 },
 "nbformat": 4,
 "nbformat_minor": 5
}
